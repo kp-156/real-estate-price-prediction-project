{
 "cells": [
  {
   "cell_type": "code",
   "execution_count": 1,
   "id": "869febb4",
   "metadata": {},
   "outputs": [],
   "source": [
    "from flask import Flask, request, jsonify\n",
    "import pandas as pd\n",
    "import numpy as np\n",
    "import joblib\n",
    "import threading\n"
   ]
  },
  {
   "cell_type": "code",
   "execution_count": 2,
   "id": "87d10e4b",
   "metadata": {},
   "outputs": [],
   "source": [
    "# Loading machine learning model\n",
    "app = Flask(__name__)\n",
    "model = joblib.load('my_model.pkl')"
   ]
  },
  {
   "cell_type": "code",
   "execution_count": 3,
   "id": "7dfd79f3",
   "metadata": {},
   "outputs": [],
   "source": [
    "# Loading the CSV file containing the locations\n",
    "locations = pd.read_csv('locations.csv')"
   ]
  },
  {
   "cell_type": "code",
   "execution_count": 4,
   "id": "fb0b9589",
   "metadata": {},
   "outputs": [],
   "source": [
    "app.route('/predict', methods=['POST'])\n",
    "def predict_price():\n",
    "    try:\n",
    "        data = request.json\n",
    "        print(data)\n",
    "\n",
    "        # Retrieving the input values\n",
    "        location = data['location']\n",
    "        sqft = float(data['sqft'])\n",
    "        bath = float(data['bath'])\n",
    "        bhk = float(data['bhk'])\n",
    "\n",
    "        # Getting the location index from the locations DataFrame\n",
    "        loc_index = locations[locations['location'] == location].index[0]\n",
    "\n",
    "        # Creating the input array for prediction\n",
    "        x = np.zeros(len(locations))\n",
    "        x[0] = sqft\n",
    "        x[1] = bath\n",
    "        x[2] = bhk\n",
    "        if loc_index >= 0:\n",
    "            x[loc_index] = 1\n",
    "\n",
    "        # Making the prediction using your model\n",
    "        price = model.predict([x])[0]\n",
    "\n",
    "        # Returning the predicted price as a JSON response\n",
    "        return jsonify({\n",
    "            'success': True,\n",
    "            'price': price\n",
    "        })\n",
    "\n",
    "    except Exception as e:\n",
    "        return jsonify({\n",
    "            'success': False,\n",
    "            'error': str(e)\n",
    "        })\n"
   ]
  },
  {
   "cell_type": "code",
   "execution_count": 5,
   "id": "5a250d3c",
   "metadata": {},
   "outputs": [],
   "source": [
    "def run_app():\n",
    "    app.run()"
   ]
  },
  {
   "cell_type": "code",
   "execution_count": 6,
   "id": "41fab8c7",
   "metadata": {},
   "outputs": [
    {
     "name": "stdout",
     "output_type": "stream",
     "text": [
      " * Serving Flask app '__main__'\n",
      " * Debug mode: off\n"
     ]
    },
    {
     "name": "stderr",
     "output_type": "stream",
     "text": [
      "WARNING: This is a development server. Do not use it in a production deployment. Use a production WSGI server instead.\n",
      " * Running on http://127.0.0.1:5000\n",
      "Press CTRL+C to quit\n"
     ]
    }
   ],
   "source": [
    "if __name__ == '__main__':\n",
    "    # Starting the Flask application on a separate thread\n",
    "    thread = threading.Thread(target=run_app)\n",
    "    thread.start()"
   ]
  },
  {
   "cell_type": "code",
   "execution_count": null,
   "id": "fcbfeebd",
   "metadata": {},
   "outputs": [],
   "source": []
  }
 ],
 "metadata": {
  "kernelspec": {
   "display_name": "ml-env",
   "language": "python",
   "name": "ml-env"
  },
  "language_info": {
   "codemirror_mode": {
    "name": "ipython",
    "version": 3
   },
   "file_extension": ".py",
   "mimetype": "text/x-python",
   "name": "python",
   "nbconvert_exporter": "python",
   "pygments_lexer": "ipython3",
   "version": "3.10.0"
  }
 },
 "nbformat": 4,
 "nbformat_minor": 5
}
